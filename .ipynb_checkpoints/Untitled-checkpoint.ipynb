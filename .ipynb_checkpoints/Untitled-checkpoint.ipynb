{
 "cells": [
  {
   "cell_type": "markdown",
   "id": "8bb8542b",
   "metadata": {},
   "source": [
    "Создать ноутбук, в котором будут приведены собственные примеры решения систем линейных уравнений матричным методом и методом Крамера."
   ]
  },
  {
   "cell_type": "markdown",
   "id": "2fe27d52",
   "metadata": {},
   "source": [
    "Матричный метод\n",
    "\n",
    "Пусть дана система n линейных уравнений с n переменными (nxn.\n",
    "Если основная матрица не вырождена, т.е.|A| != 0 , тогда для матрицы А существует А^(-1). Умножив матричное уравнение на А^(-1) получим:"
   ]
  },
  {
   "cell_type": "markdown",
   "id": "70d3a499",
   "metadata": {},
   "source": [
    "$$ X = {A^{-1}} *B$$"
   ]
  },
  {
   "cell_type": "code",
   "execution_count": 12,
   "id": "5adae477",
   "metadata": {},
   "outputs": [
    {
     "data": {
      "text/plain": [
       "array([[5, 0, 3, 3],\n",
       "       [7, 9, 3, 5],\n",
       "       [2, 4, 7, 6]])"
      ]
     },
     "execution_count": 12,
     "metadata": {},
     "output_type": "execute_result"
    }
   ],
   "source": [
    "import numpy as np\n",
    "np.random.seed(0)\n",
    "slu = np.random.randint(0, 10, size = (3, 4))\n",
    "slu"
   ]
  },
  {
   "cell_type": "markdown",
   "id": "e7db1ccb",
   "metadata": {},
   "source": [
    "$$\n",
    "\\begin{cases}\n",
    "    5x_{1} + 3x_{3} = 3\\\\\n",
    "    7x_{1} + 9x_{2} + 3x_{3} = 5\\\\\n",
    "    2x_{1} + 4x_{2} + 7x_{3} = 6\n",
    "\\end{cases}\n",
    "$$"
   ]
  },
  {
   "cell_type": "code",
   "execution_count": 14,
   "id": "64471bc9",
   "metadata": {},
   "outputs": [
    {
     "name": "stdout",
     "output_type": "stream",
     "text": [
      "slu1\n",
      "[[5 0 3]\n",
      " [7 9 3]\n",
      " [2 4 7]]\n",
      "slu2\n",
      "[3 5 6]\n"
     ]
    }
   ],
   "source": [
    "slu1 = slu[:, 0:3]\n",
    "slu2 = slu[:, 3]\n",
    "x = np.ones((3, 1))\n",
    "\n",
    "print(\"slu1\")\n",
    "print(slu1)\n",
    "print(\"slu2\")\n",
    "print(slu2)"
   ]
  },
  {
   "cell_type": "markdown",
   "id": "e19460a7",
   "metadata": {},
   "source": [
    "$$\n",
    "\\bar{A} =  \n",
    " \\begin{pmatrix} \n",
    "  5 & 0 & 3 & | & 3  \\\\ \n",
    "  7 & 9 & 3 & | & 5 \\\\ \n",
    "  2 & 4 & 7 & | & 6  \n",
    " \\end{pmatrix}\n",
    " $$"
   ]
  },
  {
   "cell_type": "markdown",
   "id": "d593cf90",
   "metadata": {},
   "source": [
    "Наййдем определитель, обратную матрицу и присоединенную"
   ]
  },
  {
   "cell_type": "code",
   "execution_count": 18,
   "id": "51b58fed",
   "metadata": {},
   "outputs": [
    {
     "name": "stdout",
     "output_type": "stream",
     "text": [
      "Решения:\n",
      "[0.17894737 0.18245614 0.70175439]\n"
     ]
    }
   ],
   "source": [
    "opr = np.linalg.det(slu1)\n",
    "if opr != 0:\n",
    "    inve = np.linalg.inv(slu1)\n",
    "    x = inve.dot(slu2)\n",
    "    print(\"Решения:\")\n",
    "    print(x)\n",
    "else:\n",
    "    print(\"Матрица вырожденная, нельзя продолжить\")"
   ]
  },
  {
   "cell_type": "markdown",
   "id": "4df35224",
   "metadata": {},
   "source": [
    "Метод Крамера"
   ]
  },
  {
   "cell_type": "markdown",
   "id": "3fae6940",
   "metadata": {},
   "source": [
    "Рассмотрим систему из n уравнений с n неизвестными.\n",
    "Если , то система имеет единственное решение, которое может быть определенне по формулам Крамера \n"
   ]
  },
  {
   "cell_type": "code",
   "execution_count": 20,
   "id": "487edf34",
   "metadata": {},
   "outputs": [
    {
     "data": {
      "text/plain": [
       "array([[5, 0, 3, 3],\n",
       "       [7, 9, 3, 5],\n",
       "       [2, 4, 7, 6]])"
      ]
     },
     "execution_count": 20,
     "metadata": {},
     "output_type": "execute_result"
    }
   ],
   "source": [
    "slu"
   ]
  },
  {
   "cell_type": "markdown",
   "id": "e4984fad",
   "metadata": {},
   "source": [
    "переводим в матричный вид"
   ]
  },
  {
   "cell_type": "code",
   "execution_count": 23,
   "id": "fdfb865c",
   "metadata": {
    "scrolled": true
   },
   "outputs": [
    {
     "name": "stdout",
     "output_type": "stream",
     "text": [
      "slu1\n",
      "[[5 0 3]\n",
      " [7 9 3]\n",
      " [2 4 7]]\n",
      "slu2\n",
      "[[3.]\n",
      " [5.]\n",
      " [6.]]\n"
     ]
    }
   ],
   "source": [
    "slu1 = slu[:, 0:3]\n",
    "slu2 = np.ones((3, 1))\n",
    "x = np.ones((3, 1))\n",
    "slu2[0, 0] = slu[0, 3]\n",
    "slu2[1, 0] = slu[1, 3]\n",
    "slu2[2, 0] = slu[2, 3]\n",
    "\n",
    "print(\"slu1\")\n",
    "print(slu1)\n",
    "print(\"slu2\")\n",
    "print(slu2)"
   ]
  },
  {
   "cell_type": "markdown",
   "id": "f1934139",
   "metadata": {},
   "source": [
    "Наййдем определитель и дополнительные определители. \n",
    "Решение"
   ]
  },
  {
   "cell_type": "code",
   "execution_count": 25,
   "id": "52f5784d",
   "metadata": {},
   "outputs": [
    {
     "name": "stdout",
     "output_type": "stream",
     "text": [
      "Ответ:\n",
      "[[0.17894737]\n",
      " [0.18245614]\n",
      " [0.70175439]]\n"
     ]
    }
   ],
   "source": [
    "opr = np.linalg.det(slu1)\n",
    "\n",
    "if opr != 0:\n",
    "    for i in range(3):\n",
    "        q = slu1.copy()\n",
    "        q[:, i] = slu2[:, 0]\n",
    "        x[i,0] = round(np.linalg.det(q), 3) / round(np.linalg.det(slu1), 3)\n",
    "    print(\"Ответ:\")\n",
    "    print(x)\n",
    "else:\n",
    "    print(\"Матрица вырожденная\")"
   ]
  },
  {
   "cell_type": "code",
   "execution_count": null,
   "id": "d37c4cb7",
   "metadata": {},
   "outputs": [],
   "source": []
  }
 ],
 "metadata": {
  "kernelspec": {
   "display_name": "Python 3 (ipykernel)",
   "language": "python",
   "name": "python3"
  },
  "language_info": {
   "codemirror_mode": {
    "name": "ipython",
    "version": 3
   },
   "file_extension": ".py",
   "mimetype": "text/x-python",
   "name": "python",
   "nbconvert_exporter": "python",
   "pygments_lexer": "ipython3",
   "version": "3.9.13"
  }
 },
 "nbformat": 4,
 "nbformat_minor": 5
}
