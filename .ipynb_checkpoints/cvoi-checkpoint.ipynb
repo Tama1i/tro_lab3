{
 "cells": [
  {
   "cell_type": "code",
   "execution_count": 1,
   "id": "5039a02e",
   "metadata": {},
   "outputs": [],
   "source": [
    "import numpy as np"
   ]
  },
  {
   "cell_type": "markdown",
   "id": "733d0047",
   "metadata": {},
   "source": [
    "№1"
   ]
  },
  {
   "cell_type": "code",
   "execution_count": 24,
   "id": "00640698",
   "metadata": {},
   "outputs": [
    {
     "name": "stdout",
     "output_type": "stream",
     "text": [
      "исходник \n",
      "[[1 2 3]\n",
      " [4 5 6]\n",
      " [7 8 9]]\n",
      "T1: \n",
      "[[1 4 7]\n",
      " [2 5 8]\n",
      " [3 6 9]]\n",
      "T2: \n",
      "[[1 2 3]\n",
      " [4 5 6]\n",
      " [7 8 9]]\n"
     ]
    }
   ],
   "source": [
    "m = np.matrix('1 2 3; 4 5 6; 7 8 9')\n",
    "print(\"исходник \")\n",
    "print(m)\n",
    "print(\"T1: \")\n",
    "print(m.T)\n",
    "print(\"T2: \")\n",
    "o = (m.T).T\n",
    "print(o)"
   ]
  },
  {
   "cell_type": "markdown",
   "id": "08c22983",
   "metadata": {},
   "source": [
    "№2"
   ]
  },
  {
   "cell_type": "code",
   "execution_count": 25,
   "id": "8a4b13e5",
   "metadata": {},
   "outputs": [
    {
     "name": "stdout",
     "output_type": "stream",
     "text": [
      "[[1 2 3]\n",
      " [4 5 6]\n",
      " [7 8 9]]\n",
      "[[ 1  9  4]\n",
      " [10  5  5]\n",
      " [12  7  8]]\n",
      "Транспонирование суммы матриц:\n",
      "[[ 2 14 19]\n",
      " [11 10 15]\n",
      " [ 7 11 17]]\n",
      "Сумма транспонированных матриц:\n",
      "[[ 2 14 19]\n",
      " [11 10 15]\n",
      " [ 7 11 17]]\n"
     ]
    }
   ],
   "source": [
    "m2 = np.matrix('1 9 4; 10 5 5; 12 7 8')\n",
    "print(m)\n",
    "print(m2)\n",
    "\n",
    "print(\"Транспонирование суммы матриц:\")\n",
    "o1 = (m + m2).T\n",
    "print(o1)\n",
    "\n",
    "print(\"Сумма транспонированных матриц:\")\n",
    "o2 = m.T + m2.T\n",
    "print(o2)"
   ]
  },
  {
   "cell_type": "markdown",
   "id": "2a15ce8e",
   "metadata": {},
   "source": [
    "№3"
   ]
  },
  {
   "cell_type": "code",
   "execution_count": 26,
   "id": "67e7b9e7",
   "metadata": {},
   "outputs": [
    {
     "name": "stdout",
     "output_type": "stream",
     "text": [
      "[[1 2 3]\n",
      " [4 5 6]\n",
      " [7 8 9]]\n",
      "[[ 1  9  4]\n",
      " [10  5  5]\n",
      " [12  7  8]]\n",
      "Транспонирование произведения матриц:\n",
      "[[ 57 126 195]\n",
      " [ 40 103 166]\n",
      " [ 38  89 140]]\n",
      "Произведение транспонированных матриц:\n",
      "[[ 57 126 195]\n",
      " [ 40 103 166]\n",
      " [ 38  89 140]]\n"
     ]
    }
   ],
   "source": [
    "print(m)\n",
    "print(m2)\n",
    "\n",
    "print(\"Транспонирование произведения матриц:\")\n",
    "o1 = (m.dot(m2)).T\n",
    "print(o1)\n",
    "\n",
    "print(\"Произведение транспонированных матриц:\")\n",
    "o2 = (m2.T).dot(m.T)\n",
    "print(o2)"
   ]
  },
  {
   "cell_type": "markdown",
   "id": "289bf136",
   "metadata": {},
   "source": [
    "№4"
   ]
  },
  {
   "cell_type": "code",
   "execution_count": 27,
   "id": "3639a8a4",
   "metadata": {},
   "outputs": [
    {
     "name": "stdout",
     "output_type": "stream",
     "text": [
      "[[1 2 3]\n",
      " [4 5 6]\n",
      " [7 8 9]]\n",
      "2\n",
      "Транспонирование произведения матрицы на число:\n",
      "[[ 2  8 14]\n",
      " [ 4 10 16]\n",
      " [ 6 12 18]]\n",
      "Произведение числа на транспонированную матрицу:\n",
      "[[ 2  8 14]\n",
      " [ 4 10 16]\n",
      " [ 6 12 18]]\n"
     ]
    }
   ],
   "source": [
    "print(m)\n",
    "p = 2\n",
    "print(p)\n",
    "\n",
    "print(\"Транспонирование произведения матрицы на число:\")\n",
    "o1 =  (p * m).T\n",
    "print(o1)\n",
    "\n",
    "print(\"Произведение числа на транспонированную матрицу:\")\n",
    "o2 =  p * (m.T)\n",
    "print(o2)"
   ]
  },
  {
   "cell_type": "markdown",
   "id": "a4f26c86",
   "metadata": {},
   "source": [
    "№5"
   ]
  },
  {
   "cell_type": "code",
   "execution_count": 30,
   "id": "0b7e4135",
   "metadata": {},
   "outputs": [
    {
     "name": "stdout",
     "output_type": "stream",
     "text": [
      "[[ 2  0  4]\n",
      " [11  4  5]\n",
      " [15  3  4]]\n",
      "определитель исходной матрицы:\n",
      "-106\n",
      "определитель транспонированной матрицы:\n",
      "-106\n"
     ]
    }
   ],
   "source": [
    "m = np.matrix('2 0 4; 11 4 5; 15 3 4')\n",
    "print(m)\n",
    "\n",
    "print(\"определитель исходной матрицы:\")\n",
    "opr = np.linalg.det(m)\n",
    "print(format(opr, '.3g'))\n",
    "\n",
    "print(\"определитель транспонированной матрицы:\")\n",
    "opr2 = np.linalg.det(m.T)\n",
    "print(format(opr2, '.3g'))"
   ]
  },
  {
   "cell_type": "markdown",
   "id": "349e04e1",
   "metadata": {},
   "source": [
    "Действия над матрицамт"
   ]
  },
  {
   "cell_type": "markdown",
   "id": "34e8adf3",
   "metadata": {},
   "source": [
    "№1"
   ]
  },
  {
   "cell_type": "code",
   "execution_count": 33,
   "id": "b5deb0f8",
   "metadata": {},
   "outputs": [
    {
     "name": "stdout",
     "output_type": "stream",
     "text": [
      "[[ 2  0  4]\n",
      " [11  4  5]\n",
      " [15  3  4]]\n",
      "произведение единицы и матрицы:\n",
      "[[ 2  0  4]\n",
      " [11  4  5]\n",
      " [15  3  4]]\n"
     ]
    }
   ],
   "source": [
    "print(m)\n",
    "\n",
    "print(\"произведение единицы и матрицы:\")\n",
    "o = 1 * m\n",
    "print(o)"
   ]
  },
  {
   "cell_type": "markdown",
   "id": "23516110",
   "metadata": {},
   "source": [
    "№2"
   ]
  },
  {
   "cell_type": "code",
   "execution_count": 37,
   "id": "ebb4a51f",
   "metadata": {},
   "outputs": [
    {
     "name": "stdout",
     "output_type": "stream",
     "text": [
      "[[ 2  0  4]\n",
      " [11  4  5]\n",
      " [15  3  4]]\n",
      "Нулевая матрица:\n",
      "[[0 0 0]\n",
      " [0 0 0]\n",
      " [0 0 0]]\n",
      "Произведение матрицы на 0:\n",
      "[[0 0 0]\n",
      " [0 0 0]\n",
      " [0 0 0]]\n"
     ]
    }
   ],
   "source": [
    "m0 = np.matrix('0 0 0; 0 0 0; 0 0 0')\n",
    "print(m)\n",
    "o = 0 * m\n",
    "print(\"Нулевая матрица:\")\n",
    "print(m0)\n",
    "print(\"Произведение матрицы на 0:\")\n",
    "print(o)"
   ]
  },
  {
   "cell_type": "markdown",
   "id": "c6b79654",
   "metadata": {},
   "source": [
    "№3"
   ]
  },
  {
   "cell_type": "code",
   "execution_count": 38,
   "id": "04fec97b",
   "metadata": {},
   "outputs": [
    {
     "name": "stdout",
     "output_type": "stream",
     "text": [
      "[[ 2  0  4]\n",
      " [11  4  5]\n",
      " [15  3  4]]\n",
      "\n",
      "Произведение матрицы на сумму чисел:\n",
      "[[ 16   0  32]\n",
      " [ 88  32  40]\n",
      " [120  24  32]]\n",
      "Произведений матрицы на каждое из этих чисел:\n",
      "[[ 16   0  32]\n",
      " [ 88  32  40]\n",
      " [120  24  32]]\n"
     ]
    }
   ],
   "source": [
    "print(m)\n",
    "print(\"\\nПроизведение матрицы на сумму чисел:\")\n",
    "o = (6 + 2) * m\n",
    "print(o)\n",
    "print(\"Произведений матрицы на каждое из этих чисел:\")\n",
    "o2 = 6 * m + 2 * m\n",
    "print(o2)"
   ]
  },
  {
   "cell_type": "markdown",
   "id": "b7625d22",
   "metadata": {},
   "source": [
    "№4"
   ]
  },
  {
   "cell_type": "code",
   "execution_count": 39,
   "id": "d9c2cb9e",
   "metadata": {},
   "outputs": [
    {
     "name": "stdout",
     "output_type": "stream",
     "text": [
      "[[ 2  0  4]\n",
      " [11  4  5]\n",
      " [15  3  4]]\n",
      "\n",
      "Произведение матрицы на произведение чисел:\n",
      "[[ 28   0  56]\n",
      " [154  56  70]\n",
      " [210  42  56]]\n",
      "Произведений второго числа и заданной матрицы, умноженному на первое число:\n",
      "[[ 28   0  56]\n",
      " [154  56  70]\n",
      " [210  42  56]]\n"
     ]
    }
   ],
   "source": [
    "print(m)\n",
    "print(\"\\nПроизведение матрицы на произведение чисел:\")\n",
    "o = (7 * 2) * m\n",
    "print(o)\n",
    "\n",
    "print(\"Произведений второго числа и заданной матрицы, умноженному на первое число:\")\n",
    "o2 = 7 * (2 * m)\n",
    "print(o2)"
   ]
  },
  {
   "cell_type": "markdown",
   "id": "ee4f48b9",
   "metadata": {},
   "source": [
    "№5"
   ]
  },
  {
   "cell_type": "code",
   "execution_count": 40,
   "id": "aaaf6106",
   "metadata": {},
   "outputs": [
    {
     "name": "stdout",
     "output_type": "stream",
     "text": [
      "[[ 2  0  4]\n",
      " [11  4  5]\n",
      " [15  3  4]]\n",
      "[[ 1  9  4]\n",
      " [10  5  5]\n",
      " [12  7  8]]\n",
      "5\n",
      "\n",
      "Произведение суммы матриц на число:\n",
      "[[ 15  45  40]\n",
      " [105  45  50]\n",
      " [135  50  60]]\n",
      "\n",
      "Cуммa произведений этих матриц на заданное число:\n",
      "[[ 15  45  40]\n",
      " [105  45  50]\n",
      " [135  50  60]]\n"
     ]
    }
   ],
   "source": [
    "print(m)\n",
    "print(m2)\n",
    "k = 5\n",
    "print(k)\n",
    "\n",
    "print(\"\\nПроизведение суммы матриц на число:\")\n",
    "o = k * (m + m2)\n",
    "print(o)\n",
    "\n",
    "print(\"\\nCуммa произведений этих матриц на заданное число:\")\n",
    "o2 = k * m + k * m2\n",
    "print(o2)"
   ]
  },
  {
   "cell_type": "markdown",
   "id": "d7652ade",
   "metadata": {},
   "source": [
    "сложение матриц"
   ]
  },
  {
   "cell_type": "markdown",
   "id": "82d24dc3",
   "metadata": {},
   "source": [
    "№1"
   ]
  },
  {
   "cell_type": "code",
   "execution_count": 42,
   "id": "7d3cac81",
   "metadata": {},
   "outputs": [
    {
     "name": "stdout",
     "output_type": "stream",
     "text": [
      "[[ 2  0  4]\n",
      " [11  4  5]\n",
      " [15  3  4]]\n",
      "[[ 1  9  4]\n",
      " [10  5  5]\n",
      " [12  7  8]]\n",
      "\n",
      "m + m2\n",
      "[[ 3  9  8]\n",
      " [21  9 10]\n",
      " [27 10 12]]\n",
      "\n",
      "m2 + m\n",
      "[[ 3  9  8]\n",
      " [21  9 10]\n",
      " [27 10 12]]\n"
     ]
    }
   ],
   "source": [
    "print(m)\n",
    "print(m2)\n",
    "\n",
    "print(\"\\nm + m2\")\n",
    "o = m + m2\n",
    "print(o)\n",
    "print(\"\\nm2 + m\")\n",
    "o2 = m2 + m\n",
    "print(o2)"
   ]
  },
  {
   "cell_type": "markdown",
   "id": "212c91e4",
   "metadata": {},
   "source": [
    "№2"
   ]
  },
  {
   "cell_type": "code",
   "execution_count": 43,
   "id": "573fe1ca",
   "metadata": {},
   "outputs": [
    {
     "name": "stdout",
     "output_type": "stream",
     "text": [
      "[[ 2  0  4]\n",
      " [11  4  5]\n",
      " [15  3  4]]\n",
      "[[ 1  9  4]\n",
      " [10  5  5]\n",
      " [12  7  8]]\n",
      "[[5 1 7]\n",
      " [4 3 2]\n",
      " [2 5 6]]\n",
      "\n",
      "m + (m2 + m3)\n",
      "[[ 8 10 15]\n",
      " [25 12 12]\n",
      " [29 15 18]]\n",
      "\n",
      "(m + m2) + m3\n",
      "[[ 8 10 15]\n",
      " [25 12 12]\n",
      " [29 15 18]]\n"
     ]
    }
   ],
   "source": [
    "m3 = np.matrix('5 1 7; 4 3 2; 2 5 6')\n",
    "print(m)\n",
    "print(m2)\n",
    "print(m3)\n",
    "\n",
    "print(\"\\nm + (m2 + m3)\")\n",
    "o = m + (m2 + m3)\n",
    "print(o)\n",
    "print(\"\\n(m + m2) + m3\")\n",
    "o2 = (m + m2) + m3\n",
    "print(o2)"
   ]
  },
  {
   "cell_type": "markdown",
   "id": "44c8c3df",
   "metadata": {},
   "source": [
    "№3"
   ]
  },
  {
   "cell_type": "code",
   "execution_count": 44,
   "id": "44449059",
   "metadata": {},
   "outputs": [
    {
     "name": "stdout",
     "output_type": "stream",
     "text": [
      "[[ 2  0  4]\n",
      " [11  4  5]\n",
      " [15  3  4]]\n",
      "m:\n",
      "[[ 8  1  5]\n",
      " [ 7  7  1]\n",
      " [ 0  9 18]]\n",
      "-m:\n",
      "[[ -2   0  -4]\n",
      " [-11  -4  -5]\n",
      " [-15  -3  -4]]\n",
      "сумма:\n",
      "[[0 0 0]\n",
      " [0 0 0]\n",
      " [0 0 0]]\n"
     ]
    }
   ],
   "source": [
    "print(m)\n",
    "\n",
    "print(f\"m:\\n{A}\")\n",
    "print(f\"-m:\\n{m * (-1)}\")\n",
    "\n",
    "print(f\"сумма:\")\n",
    "o = m + (-1)*m\n",
    "print(o)"
   ]
  },
  {
   "cell_type": "markdown",
   "id": "c76a4b62",
   "metadata": {},
   "source": [
    "Умножение матриц"
   ]
  },
  {
   "cell_type": "markdown",
   "id": "46f13460",
   "metadata": {},
   "source": [
    "№1"
   ]
  },
  {
   "cell_type": "code",
   "execution_count": 45,
   "id": "3148431a",
   "metadata": {},
   "outputs": [
    {
     "name": "stdout",
     "output_type": "stream",
     "text": [
      "[[ 2  0  4]\n",
      " [11  4  5]\n",
      " [15  3  4]]\n",
      "[[ 1  9  4]\n",
      " [10  5  5]\n",
      " [12  7  8]]\n",
      "[[5 1 7]\n",
      " [4 3 2]\n",
      " [2 5 6]]\n",
      "m*(m2*m3)\n",
      "[[ 514  388  682]\n",
      " [1379 1093 1709]\n",
      " [1391 1162 1649]]\n",
      "(m*m2)*m3\n",
      "[[ 514  388  682]\n",
      " [1379 1093 1709]\n",
      " [1391 1162 1649]]\n"
     ]
    }
   ],
   "source": [
    "print(m)\n",
    "print(m2)\n",
    "print(m3)\n",
    "\n",
    "print(\"m*(m2*m3)\")\n",
    "o = m.dot(m2.dot(m3))\n",
    "print(o)\n",
    "print(\"(m*m2)*m3\")\n",
    "o2 = (m.dot(m2)).dot(m3)\n",
    "print(o2)"
   ]
  },
  {
   "cell_type": "markdown",
   "id": "210c6aa2",
   "metadata": {},
   "source": [
    "№2"
   ]
  },
  {
   "cell_type": "code",
   "execution_count": 47,
   "id": "d49a37e9",
   "metadata": {},
   "outputs": [
    {
     "name": "stdout",
     "output_type": "stream",
     "text": [
      "[[ 2  0  4]\n",
      " [11  4  5]\n",
      " [15  3  4]]\n",
      "[[ 1  9  4]\n",
      " [10  5  5]\n",
      " [12  7  8]]\n",
      "[[5 1 7]\n",
      " [4 3 2]\n",
      " [2 5 6]]\n",
      "m * (m2+m3)\n",
      "[[ 68  68  78]\n",
      " [192 202 219]\n",
      " [188 222 242]]\n",
      "m*m2 + m*m3)\n",
      "[[ 68  68  78]\n",
      " [192 202 219]\n",
      " [188 222 242]]\n"
     ]
    }
   ],
   "source": [
    "print(m)\n",
    "print(m2)\n",
    "print(m3)\n",
    "\n",
    "print(\"m * (m2+m3)\")\n",
    "o = m.dot(m2 + m3)\n",
    "print(o)\n",
    "print(\"m*m2 + m*m3)\")\n",
    "o2 = m.dot(m2) + m.dot(m3)\n",
    "print(o2)"
   ]
  },
  {
   "cell_type": "markdown",
   "id": "aeb43f9e",
   "metadata": {},
   "source": [
    "№3"
   ]
  },
  {
   "cell_type": "code",
   "execution_count": 48,
   "id": "ef1818c4",
   "metadata": {},
   "outputs": [
    {
     "name": "stdout",
     "output_type": "stream",
     "text": [
      "[[ 2  0  4]\n",
      " [11  4  5]\n",
      " [15  3  4]]\n",
      "[[ 1  9  4]\n",
      " [10  5  5]\n",
      " [12  7  8]]\n",
      "m*m2\n",
      "[[ 50  46  40]\n",
      " [111 154 104]\n",
      " [ 93 178 107]]\n",
      "m2*m\n",
      "[[161  48  65]\n",
      " [150  35  85]\n",
      " [221  52 115]]\n"
     ]
    }
   ],
   "source": [
    "print(m)\n",
    "print(m2)\n",
    "      \n",
    "print(\"m*m2\")\n",
    "o = m.dot(m2)\n",
    "print(o)\n",
    "print(\"m2*m\")\n",
    "o2 = m2.dot(m)\n",
    "print(o2)"
   ]
  },
  {
   "cell_type": "markdown",
   "id": "36ea4a52",
   "metadata": {},
   "source": [
    "№4"
   ]
  },
  {
   "cell_type": "code",
   "execution_count": 49,
   "id": "3d4465a6",
   "metadata": {},
   "outputs": [
    {
     "name": "stdout",
     "output_type": "stream",
     "text": [
      "[[ 2  0  4]\n",
      " [11  4  5]\n",
      " [15  3  4]]\n",
      "e*m\n",
      "[[ 50  46  40]\n",
      " [111 154 104]\n",
      " [ 93 178 107]]\n",
      "m*e\n",
      "[[161  48  65]\n",
      " [150  35  85]\n",
      " [221  52 115]]\n"
     ]
    }
   ],
   "source": [
    "\n",
    "e = np.eye(3)\n",
    "print(m)\n",
    "\n",
    "print(\"e*m\")\n",
    "Lo = e.dot(m)\n",
    "print(o)\n",
    "print(\"m*e\")\n",
    "Ro2 = m.dot(e)\n",
    "print(o2)"
   ]
  },
  {
   "cell_type": "markdown",
   "id": "daae2ffd",
   "metadata": {},
   "source": [
    "№5"
   ]
  },
  {
   "cell_type": "code",
   "execution_count": 50,
   "id": "08fe743a",
   "metadata": {},
   "outputs": [
    {
     "name": "stdout",
     "output_type": "stream",
     "text": [
      "[[ 2  0  4]\n",
      " [11  4  5]\n",
      " [15  3  4]]\n",
      "e*m\n",
      "[[0. 0. 0.]\n",
      " [0. 0. 0.]\n",
      " [0. 0. 0.]]\n",
      "m*e\n",
      "[[0. 0. 0.]\n",
      " [0. 0. 0.]\n",
      " [0. 0. 0.]]\n"
     ]
    }
   ],
   "source": [
    "e = np.zeros((3, 3))\n",
    "print(m)\n",
    "\n",
    "print(\"e*m\")\n",
    "o = e.dot(m)\n",
    "print(o)\n",
    "print(\"m*e\")\n",
    "o2 = m.dot(e)\n",
    "print(o2)"
   ]
  },
  {
   "cell_type": "markdown",
   "id": "c4b96297",
   "metadata": {},
   "source": [
    "Определитель матрицы\n",
    "\n",
    "№1  Определитель матрицы остается неизменным при ее транспонировании:"
   ]
  },
  {
   "cell_type": "code",
   "execution_count": 51,
   "id": "dd74d0a1",
   "metadata": {},
   "outputs": [
    {
     "name": "stdout",
     "output_type": "stream",
     "text": [
      "[[ 2  0  4]\n",
      " [11  4  5]\n",
      " [15  3  4]]\n",
      "|m| = -106.0\n",
      "\n",
      "m(T):\n",
      "[[ 2 11 15]\n",
      " [ 0  4  3]\n",
      " [ 4  5  4]]\n",
      "\n",
      "|m(T)| = -106.0\n"
     ]
    }
   ],
   "source": [
    "\n",
    "print(m)\n",
    "opr = round(np.linalg.det(m), 3)\n",
    "print(f\"|m| = {opr}\\n\")\n",
    "\n",
    "print(f\"m(T):\\n{m.T}\\n\")\n",
    "oprt = round(np.linalg.det(m.T), 3)\n",
    "print(f\"|m(T)| = {oprt}\")"
   ]
  },
  {
   "cell_type": "markdown",
   "id": "edd6622b",
   "metadata": {},
   "source": [
    "№2 Если у матрицы есть строка или столбец, состоящие из нулей, то определитель такой матрицы равен нулю:"
   ]
  },
  {
   "cell_type": "code",
   "execution_count": 53,
   "id": "8cd67501",
   "metadata": {},
   "outputs": [
    {
     "name": "stdout",
     "output_type": "stream",
     "text": [
      "[[ 2  0  4]\n",
      " [11  4  5]\n",
      " [15  3  4]]\n",
      "|m| = -106.0\n",
      "\n",
      "[[0 2 0]\n",
      " [0 5 1]\n",
      " [0 1 1]]\n",
      "|m4| = 0.0\n",
      "\n",
      "[[0 0 0]\n",
      " [1 1 1]\n",
      " [2 2 2]]\n",
      "|m4| = 0.0\n",
      "\n"
     ]
    }
   ],
   "source": [
    "print(m)\n",
    "opr = round(np.linalg.det(m), 3)\n",
    "print(f\"|m| = {opr}\\n\")\n",
    "\n",
    "m4 = np.matrix('0 2 0; 0 5 1; 0 1 1')\n",
    "print(m4)\n",
    "\n",
    "opr = round(np.linalg.det(m4), 3)\n",
    "print(f\"|m4| = {opr}\\n\")\n",
    "\n",
    "m4 = np.matrix('0 0 0; 1 1 1;2 2 2')\n",
    "print(m4)\n",
    "opr = round(np.linalg.det(m4), 3)\n",
    "print(f\"|m4| = {opr}\\n\")"
   ]
  },
  {
   "cell_type": "markdown",
   "id": "88b23e60",
   "metadata": {},
   "source": [
    "№3 При перестановке строк матрицы знак ее определителя меняется на противоположный:"
   ]
  },
  {
   "cell_type": "code",
   "execution_count": 56,
   "id": "6d7a03b0",
   "metadata": {},
   "outputs": [
    {
     "name": "stdout",
     "output_type": "stream",
     "text": [
      "[[ 2  0  4]\n",
      " [11  4  5]\n",
      " [15  3  4]]\n",
      "|a| = -106.0\n",
      "\n",
      "[[11  4  5]\n",
      " [ 2  0  4]\n",
      " [15  3  4]]\n",
      "|b| = 106.0\n",
      "\n"
     ]
    }
   ],
   "source": [
    "a = np.matrix('2 0 4; 11 4 5; 15 3 4')\n",
    "print(a)\n",
    "opr = round(np.linalg.det(a), 3)\n",
    "print(f\"|a| = {opr}\\n\")\n",
    "\n",
    "b = np.matrix('11 4 5; 2 0 4; 15 3 4')\n",
    "print(b)\n",
    "opr = round(np.linalg.det(b), 3)\n",
    "print(f\"|b| = {opr}\\n\")"
   ]
  },
  {
   "cell_type": "markdown",
   "id": "34bc3b3d",
   "metadata": {},
   "source": [
    "№4 Если у матрицы есть две одинаковые строки, то ее определитель равен нулю:"
   ]
  },
  {
   "cell_type": "code",
   "execution_count": 59,
   "id": "400e4868",
   "metadata": {},
   "outputs": [
    {
     "name": "stdout",
     "output_type": "stream",
     "text": [
      "[[ 2  0  4]\n",
      " [11  4  5]\n",
      " [15  3  4]]\n",
      "|m| = -106.0\n",
      "\n",
      "[[1 2 3]\n",
      " [1 2 3]\n",
      " [1 1 1]]\n",
      "|a| = 0.0\n",
      "\n"
     ]
    }
   ],
   "source": [
    "print(m)\n",
    "opr = round(np.linalg.det(m), 3)\n",
    "print(f\"|m| = {opr}\\n\")\n",
    "\n",
    "a = np.matrix('1 2 3; 1 2 3; 1 1 1')\n",
    "print(a)\n",
    "opr = round(np.linalg.det(a), 3)\n",
    "print(f\"|a| = {opr}\\n\")"
   ]
  },
  {
   "cell_type": "markdown",
   "id": "6823b4c0",
   "metadata": {},
   "source": [
    "№5 Если все элементы строки или столбца матрицы умножить на какое-то число, то и определитель будет умножен на это число:"
   ]
  },
  {
   "cell_type": "code",
   "execution_count": 62,
   "id": "53ca6a8f",
   "metadata": {},
   "outputs": [
    {
     "name": "stdout",
     "output_type": "stream",
     "text": [
      "[[ 2  0  4]\n",
      " [11  4  5]\n",
      " [15  3  4]]\n",
      "|m| = -106.0\n",
      "|m| * k = -212.0\n",
      "\n",
      "[[ 4  0  4]\n",
      " [22  4  5]\n",
      " [30  3  4]]\n",
      "|mc| = -212.0\n",
      "\n"
     ]
    }
   ],
   "source": [
    "print(m)\n",
    "k = 2\n",
    "opr = round(np.linalg.det(m), 3)\n",
    "print(f\"|m| = {opr}\")\n",
    "print(f\"|m| * k = {opr * k}\\n\")\n",
    "\n",
    "mc = m.copy()\n",
    "mc[:,0] = k * mc[:,0]\n",
    "print(mc)\n",
    "\n",
    "opr = round(np.linalg.det(mc), 3)\n",
    "print(f\"|mc| = {opr}\\n\")"
   ]
  },
  {
   "cell_type": "markdown",
   "id": "42f92afc",
   "metadata": {},
   "source": [
    "№6  Если все элементы строки или столбца можно представить как сумму двух слагаемых, то определитель такой матрицы равен сумме определителей двух соответствующих матриц:"
   ]
  },
  {
   "cell_type": "code",
   "execution_count": 67,
   "id": "878b05b9",
   "metadata": {},
   "outputs": [
    {
     "name": "stdout",
     "output_type": "stream",
     "text": [
      "m3\n",
      "[[ 2  2  4]\n",
      " [ 3 12  1]\n",
      " [ 8  8 10]]\n",
      "m1\n",
      "[[ 2  2  4]\n",
      " [-3  4 -1]\n",
      " [ 8  8 10]]\n",
      "m2\n",
      "[[ 2  2  4]\n",
      " [ 6  8  2]\n",
      " [ 8  8 10]]\n",
      "|m3|\n",
      "-108.0\n",
      "|m1| + |m2|\n",
      "-108.0\n"
     ]
    }
   ],
   "source": [
    "m1 = np.matrix('2 2 4 ; -3 4 -1; 8 8 10 ')\n",
    "m2 = np.matrix('2 2 4; 6 8 2; 8 8 10')\n",
    "m3 = m1.copy()\n",
    "m3[1, :] += m2[1, :]\n",
    "print(\"m3\")\n",
    "print(m3)\n",
    "print(\"m1\")\n",
    "print(m1)\n",
    "print(\"m2\")\n",
    "print(m2)\n",
    "print(\"|m3|\")\n",
    "print(round(np.linalg.det(m3), 3))\n",
    "print(\"|m1| + |m2|\")\n",
    "print(round(np.linalg.det(m1), 3) + round(np.linalg.det(m2), 3))"
   ]
  },
  {
   "cell_type": "markdown",
   "id": "3c11a110",
   "metadata": {},
   "source": [
    "№7 Если к элементам одной строки прибавить элементы другой строки, умноженные на одно и тоже число, то определитель матрицы не изменится:"
   ]
  },
  {
   "cell_type": "code",
   "execution_count": 68,
   "id": "f36b3b73",
   "metadata": {},
   "outputs": [
    {
     "name": "stdout",
     "output_type": "stream",
     "text": [
      "m1\n",
      "[[ 2  2  4]\n",
      " [-3  4 -1]\n",
      " [ 8  8 10]]\n",
      "b\n",
      "[[ 2  2  4]\n",
      " [ 1  8  7]\n",
      " [ 8  8 10]]\n",
      "|m1|\n",
      "-84.0\n",
      "|b|\n",
      "-84.0\n"
     ]
    }
   ],
   "source": [
    "m1\n",
    "k = 2\n",
    "\n",
    "b = m1.copy()\n",
    "b[1, :] = b[1, :] + k * b[0, :]\n",
    "\n",
    "print(\"m1\")\n",
    "print(m1)\n",
    "print(\"b\")\n",
    "print(b)\n",
    "\n",
    "print(\"|m1|\")\n",
    "print(round(np.linalg.det(m1), 3))\n",
    "print(\"|b|\")\n",
    "print(round(np.linalg.det(b), 3))"
   ]
  },
  {
   "cell_type": "markdown",
   "id": "3e64a295",
   "metadata": {},
   "source": [
    "№8 Если строка или столбец матрицы является линейной комбинацией других строк (столбцов), то определитель такой матрицы равен нулю"
   ]
  },
  {
   "cell_type": "code",
   "execution_count": 69,
   "id": "91172a92",
   "metadata": {},
   "outputs": [
    {
     "name": "stdout",
     "output_type": "stream",
     "text": [
      "m1\n",
      "[[ 2  2  4]\n",
      " [-3  4 -1]\n",
      " [ 8  8 10]]\n",
      "|m1|\n",
      "0.0\n"
     ]
    }
   ],
   "source": [
    "print(\"m1\")\n",
    "print(m1)\n",
    "k = 2\n",
    "m1[1, :] = m1[0, :] + k * m1[2, :]\n",
    "print(\"|m1|\")\n",
    "print(round(np.linalg.det(m1), 3))"
   ]
  },
  {
   "cell_type": "markdown",
   "id": "116832ec",
   "metadata": {},
   "source": [
    "№9  Если матрица содержит пропорциональные строки, то ее определитель равен нулю:"
   ]
  },
  {
   "cell_type": "code",
   "execution_count": 74,
   "id": "5c7d2f89",
   "metadata": {},
   "outputs": [
    {
     "name": "stdout",
     "output_type": "stream",
     "text": [
      "m1\n",
      "[[ 2  2  4]\n",
      " [ 4  4  8]\n",
      " [ 8  8 10]]\n",
      "0.0\n",
      "\n",
      " novei m1\n",
      "[[ 2  2  4]\n",
      " [ 4  4  8]\n",
      " [ 8  8 10]]\n",
      "0.0\n"
     ]
    }
   ],
   "source": [
    "\n",
    "print(\"m1\")\n",
    "print(m1)\n",
    "print(round(np.linalg.det(m1), 3))\n",
    "\n",
    "k = 2\n",
    "m1[1, :] = k * m1[0, :]\n",
    "print(\"\\n novei m1\")\n",
    "print(m1)\n",
    "print(round(np.linalg.det(m1), 3))"
   ]
  },
  {
   "cell_type": "markdown",
   "id": "1eb1d66b",
   "metadata": {},
   "source": [
    "Обратная матрица\n",
    "\n",
    "№1 Обратная матрица обратной матрицы есть исходная матрица:"
   ]
  },
  {
   "cell_type": "code",
   "execution_count": 80,
   "id": "1c3a6e93",
   "metadata": {},
   "outputs": [
    {
     "name": "stdout",
     "output_type": "stream",
     "text": [
      "m1\n",
      "[[1 2]\n",
      " [4 5]]\n",
      "inv\n",
      "[[-1.66666667  0.66666667]\n",
      " [ 1.33333333 -0.33333333]]\n",
      "inveinv\n",
      "[[1. 2.]\n",
      " [4. 5.]]\n"
     ]
    }
   ],
   "source": [
    "m1 = np.matrix('1 2 ; 4 5 ')\n",
    "print(\"m1\")\n",
    "print(m1)\n",
    "inve = np.linalg.inv(m1)\n",
    "print(\"inv\")\n",
    "print(inve)\n",
    "iii = np.linalg.inv(inve)\n",
    "print(\"inveinv\")\n",
    "print(iii)"
   ]
  },
  {
   "cell_type": "markdown",
   "id": "0f9909f3",
   "metadata": {},
   "source": [
    "№2 Обратная матрица транспонированной матрицы равна транспонированной матрице от обратной матрицы:"
   ]
  },
  {
   "cell_type": "code",
   "execution_count": 81,
   "id": "22e40f39",
   "metadata": {},
   "outputs": [
    {
     "name": "stdout",
     "output_type": "stream",
     "text": [
      "[[1 2]\n",
      " [4 5]]\n",
      "Обратная матрица транспонированной матрицы:\n",
      "[[-1.66666667  1.33333333]\n",
      " [ 0.66666667 -0.33333333]]\n",
      "Транспонированная матрица от обратной матрицы:\n",
      "[[-1.66666667  1.33333333]\n",
      " [ 0.66666667 -0.33333333]]\n"
     ]
    }
   ],
   "source": [
    "print(m1)\n",
    "\n",
    "print(\"Обратная матрица транспонированной матрицы:\")\n",
    "o = np.linalg.inv(m1.T)\n",
    "print(o)\n",
    "\n",
    "print(\"Транспонированная матрица от обратной матрицы:\")\n",
    "o2 = (np.linalg.inv(m1)).T\n",
    "print(o2)"
   ]
  },
  {
   "cell_type": "markdown",
   "id": "712cdaa8",
   "metadata": {},
   "source": [
    "№3 Обратная матрица произведения матриц равна произведению обратных матриц:"
   ]
  },
  {
   "cell_type": "code",
   "execution_count": 83,
   "id": "8de35223",
   "metadata": {},
   "outputs": [
    {
     "name": "stdout",
     "output_type": "stream",
     "text": [
      "[[1 2]\n",
      " [4 5]]\n",
      "[[3 4]\n",
      " [6 7]]\n",
      "Обратная матрица произведения матриц:\n",
      "[[ 5.66666667 -2.        ]\n",
      " [-4.66666667  1.66666667]]\n",
      "Произведение обратных матриц:\n",
      "[[ 5.66666667 -2.        ]\n",
      " [-4.66666667  1.66666667]]\n"
     ]
    }
   ],
   "source": [
    "m2 = np.matrix('3 4; 6 7')\n",
    "print(m1)\n",
    "print(m2)\n",
    "\n",
    "print(\"Обратная матрица произведения матриц:\")\n",
    "o = np.linalg.inv(m1.dot(m2))\n",
    "print(o)\n",
    "\n",
    "print(\"Произведение обратных матриц:\")\n",
    "o2 = np.linalg.inv(m2).dot(np.linalg.inv(m1))\n",
    "print(o2)"
   ]
  },
  {
   "cell_type": "code",
   "execution_count": null,
   "id": "df0de202",
   "metadata": {},
   "outputs": [],
   "source": []
  }
 ],
 "metadata": {
  "kernelspec": {
   "display_name": "Python 3 (ipykernel)",
   "language": "python",
   "name": "python3"
  },
  "language_info": {
   "codemirror_mode": {
    "name": "ipython",
    "version": 3
   },
   "file_extension": ".py",
   "mimetype": "text/x-python",
   "name": "python",
   "nbconvert_exporter": "python",
   "pygments_lexer": "ipython3",
   "version": "3.9.13"
  }
 },
 "nbformat": 4,
 "nbformat_minor": 5
}
